{
 "cells": [
  {
   "cell_type": "code",
   "execution_count": 1,
   "id": "d0e38850",
   "metadata": {},
   "outputs": [
    {
     "name": "stdout",
     "output_type": "stream",
     "text": [
      "Support Vector Regressor (SVR) -->\n",
      "R2 Score: 0.8748257921516491\n",
      "Mean Squared Error: 10.84450215860791\n",
      "Mean Absolute Error: 2.275983616273383\n"
     ]
    }
   ],
   "source": [
    "import pandas as pd\n",
    "import matplotlib.pyplot as plt\n",
    "from sklearn.model_selection import train_test_split\n",
    "from sklearn.preprocessing import LabelEncoder, StandardScaler\n",
    "from sklearn.svm import SVR\n",
    "from sklearn.metrics import r2_score, mean_squared_error, mean_absolute_error\n",
    "\n",
    "# Load dataset\n",
    "df = pd.read_csv('Life Expectancy Data.csv')\n",
    "\n",
    "# Drop unnecessary columns\n",
    "df.drop(['Country', 'Year'], axis=1, inplace=True)\n",
    "\n",
    "# Handle missing values\n",
    "df.fillna(df.mean(numeric_only=True), inplace=True)\n",
    "df.fillna(df.mode().iloc[0], inplace=True)\n",
    "\n",
    "# Encode categorical feature\n",
    "le = LabelEncoder()\n",
    "df['Status'] = le.fit_transform(df['Status'])\n",
    "\n",
    "# Split features and target\n",
    "X = df.drop('Life expectancy ', axis=1)\n",
    "y = df['Life expectancy ']\n",
    "\n",
    "# Feature scaling\n",
    "scaler = StandardScaler()\n",
    "X_scaled = scaler.fit_transform(X)\n",
    "\n",
    "# Split into train and test sets\n",
    "X_train, X_test, y_train, y_test = train_test_split(\n",
    "    X_scaled, y, test_size=0.2, random_state=42\n",
    ")\n",
    "\n",
    "# Initialize and train Support Vector Regressor\n",
    "svr_model = SVR(kernel='rbf')  # You can try 'linear', 'poly', etc.\n",
    "svr_model.fit(X_train, y_train)\n",
    "\n",
    "# Predict\n",
    "y_pred = svr_model.predict(X_test)\n",
    "\n",
    "# Evaluate\n",
    "mse = mean_squared_error(y_test, y_pred)\n",
    "r2 = r2_score(y_test, y_pred)\n",
    "mae = mean_absolute_error(y_test, y_pred)\n",
    "\n",
    "print(\"Support Vector Regressor (SVR) -->\")\n",
    "print(\"R2 Score:\", r2)\n",
    "print(\"Mean Squared Error:\", mse)\n",
    "print(\"Mean Absolute Error:\", mae)\n"
   ]
  }
 ],
 "metadata": {
  "kernelspec": {
   "display_name": "Python 3",
   "language": "python",
   "name": "python3"
  },
  "language_info": {
   "codemirror_mode": {
    "name": "ipython",
    "version": 3
   },
   "file_extension": ".py",
   "mimetype": "text/x-python",
   "name": "python",
   "nbconvert_exporter": "python",
   "pygments_lexer": "ipython3",
   "version": "3.11.9"
  }
 },
 "nbformat": 4,
 "nbformat_minor": 5
}
